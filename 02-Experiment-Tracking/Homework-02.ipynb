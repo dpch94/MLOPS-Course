{
 "cells": [
  {
   "cell_type": "code",
   "execution_count": 3,
   "id": "97c53aea",
   "metadata": {},
   "outputs": [
    {
     "name": "stdout",
     "output_type": "stream",
     "text": [
      "Collecting pyarrow\n",
      "  Downloading pyarrow-16.1.0-cp39-cp39-manylinux_2_28_x86_64.whl (40.8 MB)\n",
      "\u001b[K     |████████████████████████████████| 40.8 MB 26.9 MB/s eta 0:00:01\n",
      "\u001b[?25hRequirement already satisfied: numpy>=1.16.6 in /home/codespace/anaconda3/lib/python3.9/site-packages (from pyarrow) (1.21.5)\n",
      "Installing collected packages: pyarrow\n",
      "Successfully installed pyarrow-16.1.0\n"
     ]
    }
   ],
   "source": [
    "!pip install pyarrow"
   ]
  },
  {
   "cell_type": "code",
   "execution_count": 1,
   "id": "12fe5787",
   "metadata": {},
   "outputs": [
    {
     "name": "stdout",
     "output_type": "stream",
     "text": [
      "Python 3.9.19\n"
     ]
    }
   ],
   "source": [
    "!python -V"
   ]
  },
  {
   "cell_type": "code",
   "execution_count": 2,
   "id": "aeac057a",
   "metadata": {},
   "outputs": [],
   "source": [
    "import pandas as pd\n",
    "from sklearn.feature_extraction import DictVectorizer\n",
    "from sklearn.linear_model import LinearRegression\n",
    "\n",
    "from sklearn.metrics import mean_squared_error"
   ]
  },
  {
   "cell_type": "markdown",
   "id": "53c63afe",
   "metadata": {},
   "source": [
    "# Q1. Install MLflow"
   ]
  },
  {
   "cell_type": "code",
   "execution_count": 3,
   "id": "a3a5d5e0",
   "metadata": {},
   "outputs": [
    {
     "data": {
      "text/plain": [
       "<Experiment: artifact_location='/workspaces/MLOPS-Course/02-Experiment-Tracking/mlruns/2', creation_time=1716829170043, experiment_id='2', last_update_time=1716829170043, lifecycle_stage='active', name='nyc-taxi-experiment1', tags={}>"
      ]
     },
     "execution_count": 3,
     "metadata": {},
     "output_type": "execute_result"
    }
   ],
   "source": [
    "import mlflow\n",
    "\n",
    "mlflow.set_tracking_uri(\"sqlite:///mlflow.db\")\n",
    "mlflow.set_experiment(\"nyc-taxi-experiment1\")\n"
   ]
  },
  {
   "cell_type": "code",
   "execution_count": 4,
   "id": "ed3d55e0",
   "metadata": {},
   "outputs": [
    {
     "data": {
      "text/plain": [
       "'2.13.0'"
      ]
     },
     "execution_count": 4,
     "metadata": {},
     "output_type": "execute_result"
    }
   ],
   "source": [
    "mlflow.__version__"
   ]
  },
  {
   "cell_type": "markdown",
   "id": "a5c0cd37",
   "metadata": {},
   "source": [
    "# Q2. Downloading the data"
   ]
  },
  {
   "cell_type": "markdown",
   "id": "a8d72f7b",
   "metadata": {},
   "source": [
    "We'll use the Green Taxi Trip Records dataset to predict the duration of each trip.\n",
    "\n",
    "Download the data for January, February and March 2023 in parquet format from https://www.nyc.gov/site/tlc/about/tlc-trip-record-data.page"
   ]
  },
  {
   "cell_type": "markdown",
   "id": "83bf28e2",
   "metadata": {},
   "source": [
    "Use the script preprocess_data.py located in the folder homework to preprocess the data.\n",
    "\n",
    "The script will:\n",
    "\n",
    "load the data from the folder <TAXI_DATA_FOLDER> (the folder where you have downloaded the data),\n",
    "fit a DictVectorizer on the training set (January 2023 data),\n",
    "save the preprocessed datasets and the DictVectorizer to disk.\n",
    "\n",
    "Your task is to download the datasets and then execute this command:\n",
    "\n",
    "python preprocess_data.py --raw_data_path <TAXI_DATA_FOLDER> --dest_path ./output"
   ]
  },
  {
   "cell_type": "code",
   "execution_count": 30,
   "id": "5056b50e",
   "metadata": {},
   "outputs": [],
   "source": [
    "# running preprocess script\n",
    "!python preprocess_data.py --raw_data_path \"/workspaces/MLOPS-Course/02-Experiment-Tracking/data\" --dest_path ./output"
   ]
  },
  {
   "cell_type": "code",
   "execution_count": 31,
   "id": "e2af0866",
   "metadata": {},
   "outputs": [
    {
     "name": "stdout",
     "output_type": "stream",
     "text": [
      "dv.pkl\ttest.pkl  train.pkl  val.pkl\n"
     ]
    }
   ],
   "source": [
    "# checking the files in output folder\n",
    "!ls output/"
   ]
  },
  {
   "cell_type": "markdown",
   "id": "83aa0e28",
   "metadata": {},
   "source": [
    "After running the pre-process script, now we have 4 files in output folder."
   ]
  },
  {
   "cell_type": "markdown",
   "id": "f411fb35",
   "metadata": {},
   "source": [
    "# Q3. Train a model with autolog"
   ]
  },
  {
   "cell_type": "markdown",
   "id": "ff0cba5b",
   "metadata": {},
   "source": [
    "We will train a RandomForestRegressor (from Scikit-Learn) on the taxi dataset.\n",
    "\n",
    "We have prepared the training script train.py for this exercise, which can be also found in the folder homework.\n",
    "\n",
    "The script will:\n",
    "\n",
    "load the datasets produced by the previous step,\n",
    "train the model on the training set,\n",
    "calculate the RMSE score on the validation set.\n",
    "Your task is to modify the script to enable autologging with MLflow, execute the script and then launch the MLflow UI to check that the experiment run was properly tracked.\n",
    "\n",
    "Tip 1: don't forget to wrap the training code with a with mlflow.start_run(): statement as we showed in the videos.\n",
    "\n",
    "Tip 2: don't modify the hyperparameters of the model to make sure that the training will finish quickly."
   ]
  },
  {
   "cell_type": "code",
   "execution_count": 13,
   "id": "a1ae27d2",
   "metadata": {},
   "outputs": [
    {
     "name": "stdout",
     "output_type": "stream",
     "text": [
      "2024/05/27 18:19:05 WARNING mlflow.utils.autologging_utils: You are using an unsupported version of sklearn. If you encounter errors during autologging, try upgrading / downgrading sklearn to a supported version, or try upgrading MLflow.\n",
      "2024/05/27 18:19:06 INFO mlflow.tracking.fluent: Autologging successfully enabled for sklearn.\n",
      "2024/05/27 18:19:08 WARNING mlflow.sklearn: Failed to log training dataset information to MLflow Tracking. Reason: 'numpy.ndarray' object has no attribute 'toarray'\n",
      "2024/05/27 18:19:24 WARNING mlflow.utils.autologging_utils: MLflow autologging encountered a warning: \"/home/codespace/anaconda3/envs/experiment-tracking-env/lib/python3.9/site-packages/_distutils_hack/__init__.py:26: UserWarning: Setuptools is replacing distutils.\"\n"
     ]
    }
   ],
   "source": [
    "# model training and experiment tracking through mlflow\n",
    "!python train.py"
   ]
  },
  {
   "cell_type": "code",
   "execution_count": 14,
   "id": "ecf67dc9",
   "metadata": {},
   "outputs": [
    {
     "name": "stdout",
     "output_type": "stream",
     "text": [
      "Run ID: 852cd2ac0dbf42de824286d491467abc, min_samples_split: 2\n",
      "Run ID: 6cdbab30c1e04c5a8d0359a923e1c803, min_samples_split: 2\n",
      "Run ID: 211afe9a1a73420b97446e91ff221dba, min_samples_split: 2\n"
     ]
    }
   ],
   "source": [
    "# specify the experiment name or ID where your runs were logged\n",
    "experiment_name = \"nyc-taxi-experiment1\"\n",
    "\n",
    "# get the experiment ID\n",
    "experiment = mlflow.get_experiment_by_name(experiment_name)\n",
    "experiment_id = experiment.experiment_id\n",
    "\n",
    "# search for runs in the experiment\n",
    "runs = mlflow.search_runs(experiment_ids=[experiment_id])\n",
    "\n",
    "# iterate through the runs and retrieve min_samples_split parameter\n",
    "for run in runs.iterrows():\n",
    "    run_id = run[1]['run_id']\n",
    "    params = mlflow.get_run(run_id).data.params\n",
    "    if 'min_samples_split' in params:\n",
    "        min_samples_split = params['min_samples_split']\n",
    "        print(f\"Run ID: {run_id}, min_samples_split: {min_samples_split}\")"
   ]
  },
  {
   "cell_type": "markdown",
   "id": "50d7ddcf",
   "metadata": {},
   "source": [
    "So, value of the min_samples_split parameter is 2."
   ]
  },
  {
   "cell_type": "markdown",
   "id": "763c57f8",
   "metadata": {},
   "source": [
    "# Q4. Launch the tracking server locally"
   ]
  },
  {
   "cell_type": "markdown",
   "id": "3970e541",
   "metadata": {},
   "source": [
    "Now we want to manage the entire lifecycle of our ML model. In this step, you'll need to launch a tracking server. This way we will also have access to the model registry.\n",
    "\n",
    "Your task is to:\n",
    "\n",
    "launch the tracking server on your local machine,\n",
    "select a SQLite db for the backend store and a folder called artifacts for the artifacts store.\n",
    "You should keep the tracking server running to work on the next two exercises that use the server.\n",
    "\n",
    "In addition to backend-store-uri, what else do you need to pass to properly configure the server?"
   ]
  },
  {
   "cell_type": "code",
   "execution_count": 18,
   "id": "a032663a",
   "metadata": {},
   "outputs": [
    {
     "name": "stdout",
     "output_type": "stream",
     "text": [
      "[2024-05-27 18:49:14 +0000] [153937] [INFO] Starting gunicorn 22.0.0\n",
      "[2024-05-27 18:49:14 +0000] [153937] [INFO] Listening at: http://127.0.0.1:5002 (153937)\n",
      "[2024-05-27 18:49:14 +0000] [153937] [INFO] Using worker: sync\n",
      "[2024-05-27 18:49:14 +0000] [153938] [INFO] Booting worker with pid: 153938\n",
      "[2024-05-27 18:49:14 +0000] [153939] [INFO] Booting worker with pid: 153939\n",
      "[2024-05-27 18:49:14 +0000] [153940] [INFO] Booting worker with pid: 153940\n",
      "[2024-05-27 18:49:14 +0000] [153941] [INFO] Booting worker with pid: 153941\n",
      "^C\n",
      "[2024-05-27 19:15:20 +0000] [153937] [INFO] Handling signal: int\n",
      "[2024-05-27 19:15:20 +0000] [153938] [INFO] Worker exiting (pid: 153938)\n",
      "[2024-05-27 19:15:20 +0000] [153941] [INFO] Worker exiting (pid: 153941)\n",
      "[2024-05-27 19:15:20 +0000] [153940] [INFO] Worker exiting (pid: 153940)\n",
      "[2024-05-27 19:15:20 +0000] [153939] [INFO] Worker exiting (pid: 153939)\n"
     ]
    }
   ],
   "source": [
    "# launch the tracking server\n",
    "!mlflow server --backend-store-uri sqlite:///mlflow.db --default-artifact-root ./artifacts  --port 5002\n",
    "\n",
    "# in addition to sqlite db, we need default-artifact-root"
   ]
  },
  {
   "cell_type": "markdown",
   "id": "da6a7d93",
   "metadata": {},
   "source": [
    "# Q5. Tune model hyperparameters"
   ]
  },
  {
   "cell_type": "markdown",
   "id": "644bd3c0",
   "metadata": {},
   "source": [
    "Now let's try to reduce the validation error by tuning the hyperparameters of the RandomForestRegressor using hyperopt. We have prepared the script hpo.py for this exercise.\n",
    "\n",
    "Your task is to modify the script hpo.py and make sure that the validation RMSE is logged to the tracking server for each run of the hyperparameter optimization (you will need to add a few lines of code to the objective function) and run the script without passing any parameters.\n",
    "\n",
    "After that, open UI and explore the runs from the experiment called random-forest-hyperopt to answer the question below.\n",
    "\n",
    "Note: Don't use autologging for this exercise.\n",
    "\n",
    "The idea is to just log the information that you need to answer the question below, including:\n",
    "\n",
    "the list of hyperparameters that are passed to the objective function during the optimization,\n",
    "the RMSE obtained on the validation set (February 2023 data).\n",
    "What's the best validation RMSE that you got?"
   ]
  },
  {
   "cell_type": "code",
   "execution_count": 19,
   "id": "45bfdf3c",
   "metadata": {},
   "outputs": [
    {
     "name": "stdout",
     "output_type": "stream",
     "text": [
      "2024/05/27 19:15:30 INFO mlflow.tracking.fluent: Experiment with name 'random-forest-hyperopt' does not exist. Creating a new experiment.\n",
      "  0%|                                    | 0/15 [00:00<?, ?trial/s, best loss=?]/home/codespace/anaconda3/envs/experiment-tracking-env/lib/python3.9/site-packages/sklearn/metrics/_regression.py:492: FutureWarning: 'squared' is deprecated in version 1.4 and will be removed in 1.6. To calculate the root mean squared error, use the function'root_mean_squared_error'.\n",
      "  warnings.warn(\n",
      "\n",
      "  7%|▋          | 1/15 [00:08<01:52,  8.07s/trial, best loss: 5.370086069268862]/home/codespace/anaconda3/envs/experiment-tracking-env/lib/python3.9/site-packages/sklearn/metrics/_regression.py:492: FutureWarning: 'squared' is deprecated in version 1.4 and will be removed in 1.6. To calculate the root mean squared error, use the function'root_mean_squared_error'.\n",
      "  warnings.warn(\n",
      "\n",
      " 13%|█▍         | 2/15 [00:08<00:46,  3.61s/trial, best loss: 5.370086069268862]/home/codespace/anaconda3/envs/experiment-tracking-env/lib/python3.9/site-packages/sklearn/metrics/_regression.py:492: FutureWarning: 'squared' is deprecated in version 1.4 and will be removed in 1.6. To calculate the root mean squared error, use the function'root_mean_squared_error'.\n",
      "  warnings.warn(\n",
      "\n",
      " 20%|██▏        | 3/15 [00:09<00:27,  2.28s/trial, best loss: 5.370086069268862]/home/codespace/anaconda3/envs/experiment-tracking-env/lib/python3.9/site-packages/sklearn/metrics/_regression.py:492: FutureWarning: 'squared' is deprecated in version 1.4 and will be removed in 1.6. To calculate the root mean squared error, use the function'root_mean_squared_error'.\n",
      "  warnings.warn(\n",
      "\n",
      " 27%|██▉        | 4/15 [00:14<00:38,  3.46s/trial, best loss: 5.357490752366866]/home/codespace/anaconda3/envs/experiment-tracking-env/lib/python3.9/site-packages/sklearn/metrics/_regression.py:492: FutureWarning: 'squared' is deprecated in version 1.4 and will be removed in 1.6. To calculate the root mean squared error, use the function'root_mean_squared_error'.\n",
      "  warnings.warn(\n",
      "\n",
      " 33%|███▋       | 5/15 [00:17<00:32,  3.26s/trial, best loss: 5.357490752366866]/home/codespace/anaconda3/envs/experiment-tracking-env/lib/python3.9/site-packages/sklearn/metrics/_regression.py:492: FutureWarning: 'squared' is deprecated in version 1.4 and will be removed in 1.6. To calculate the root mean squared error, use the function'root_mean_squared_error'.\n",
      "  warnings.warn(\n",
      "\n",
      " 40%|████▍      | 6/15 [00:26<00:46,  5.20s/trial, best loss: 5.354695072530291]/home/codespace/anaconda3/envs/experiment-tracking-env/lib/python3.9/site-packages/sklearn/metrics/_regression.py:492: FutureWarning: 'squared' is deprecated in version 1.4 and will be removed in 1.6. To calculate the root mean squared error, use the function'root_mean_squared_error'.\n",
      "  warnings.warn(\n",
      "\n",
      " 47%|█████▏     | 7/15 [00:35<00:51,  6.39s/trial, best loss: 5.354695072530291]/home/codespace/anaconda3/envs/experiment-tracking-env/lib/python3.9/site-packages/sklearn/metrics/_regression.py:492: FutureWarning: 'squared' is deprecated in version 1.4 and will be removed in 1.6. To calculate the root mean squared error, use the function'root_mean_squared_error'.\n",
      "  warnings.warn(\n",
      "\n",
      " 53%|█████▊     | 8/15 [00:36<00:32,  4.68s/trial, best loss: 5.354695072530291]/home/codespace/anaconda3/envs/experiment-tracking-env/lib/python3.9/site-packages/sklearn/metrics/_regression.py:492: FutureWarning: 'squared' is deprecated in version 1.4 and will be removed in 1.6. To calculate the root mean squared error, use the function'root_mean_squared_error'.\n",
      "  warnings.warn(\n",
      "\n",
      " 60%|██████▌    | 9/15 [00:41<00:30,  5.00s/trial, best loss: 5.354695072530291]/home/codespace/anaconda3/envs/experiment-tracking-env/lib/python3.9/site-packages/sklearn/metrics/_regression.py:492: FutureWarning: 'squared' is deprecated in version 1.4 and will be removed in 1.6. To calculate the root mean squared error, use the function'root_mean_squared_error'.\n",
      "  warnings.warn(\n",
      "\n",
      " 67%|██████▋   | 10/15 [00:46<00:24,  4.87s/trial, best loss: 5.354695072530291]/home/codespace/anaconda3/envs/experiment-tracking-env/lib/python3.9/site-packages/sklearn/metrics/_regression.py:492: FutureWarning: 'squared' is deprecated in version 1.4 and will be removed in 1.6. To calculate the root mean squared error, use the function'root_mean_squared_error'.\n",
      "  warnings.warn(\n",
      "\n",
      " 73%|███████▎  | 11/15 [00:50<00:18,  4.51s/trial, best loss: 5.335419588556921]/home/codespace/anaconda3/envs/experiment-tracking-env/lib/python3.9/site-packages/sklearn/metrics/_regression.py:492: FutureWarning: 'squared' is deprecated in version 1.4 and will be removed in 1.6. To calculate the root mean squared error, use the function'root_mean_squared_error'.\n",
      "  warnings.warn(\n",
      "\n",
      " 80%|████████  | 12/15 [00:53<00:12,  4.05s/trial, best loss: 5.335419588556921]/home/codespace/anaconda3/envs/experiment-tracking-env/lib/python3.9/site-packages/sklearn/metrics/_regression.py:492: FutureWarning: 'squared' is deprecated in version 1.4 and will be removed in 1.6. To calculate the root mean squared error, use the function'root_mean_squared_error'.\n",
      "  warnings.warn(\n",
      "\n",
      " 87%|████████▋ | 13/15 [00:54<00:06,  3.17s/trial, best loss: 5.335419588556921]/home/codespace/anaconda3/envs/experiment-tracking-env/lib/python3.9/site-packages/sklearn/metrics/_regression.py:492: FutureWarning: 'squared' is deprecated in version 1.4 and will be removed in 1.6. To calculate the root mean squared error, use the function'root_mean_squared_error'.\n",
      "  warnings.warn(\n",
      "\n",
      " 93%|█████████▎| 14/15 [00:57<00:03,  3.19s/trial, best loss: 5.335419588556921]/home/codespace/anaconda3/envs/experiment-tracking-env/lib/python3.9/site-packages/sklearn/metrics/_regression.py:492: FutureWarning: 'squared' is deprecated in version 1.4 and will be removed in 1.6. To calculate the root mean squared error, use the function'root_mean_squared_error'.\n",
      "  warnings.warn(\n",
      "\n",
      "100%|██████████| 15/15 [01:02<00:00,  4.18s/trial, best loss: 5.335419588556921]\n"
     ]
    }
   ],
   "source": [
    "!python hpo.py"
   ]
  },
  {
   "cell_type": "markdown",
   "id": "568abf1b",
   "metadata": {},
   "source": [
    "So, the best validation RMSE is 5.335"
   ]
  },
  {
   "cell_type": "markdown",
   "id": "5f0f04bc",
   "metadata": {},
   "source": [
    "# Q6. Promote the best model to the model registry"
   ]
  },
  {
   "cell_type": "markdown",
   "id": "0b09a836",
   "metadata": {},
   "source": [
    "The results from the hyperparameter optimization are quite good. So, we can assume that we are ready to test some of these models in production. In this exercise, you'll promote the best model to the model registry. We have prepared a script called register_model.py, which will check the results from the previous step and select the top 5 runs. After that, it will calculate the RMSE of those models on the test set (March 2023 data) and save the results to a new experiment called random-forest-best-models.\n",
    "\n",
    "Your task is to update the script register_model.py so that it selects the model with the lowest RMSE on the test set and registers it to the model registry.\n",
    "\n",
    "Tip 1: you can use the method search_runs from the MlflowClient to get the model with the lowest RMSE,\n",
    "\n",
    "Tip 2: to register the model you can use the method mlflow.register_model and you will need to pass the right model_uri in the form of a string that looks like this: \"runs:/<RUN_ID>/model\", and the name of the model (make sure to choose a good one!)."
   ]
  },
  {
   "cell_type": "code",
   "execution_count": 23,
   "id": "da92fd07",
   "metadata": {},
   "outputs": [
    {
     "name": "stdout",
     "output_type": "stream",
     "text": [
      "/home/codespace/anaconda3/envs/experiment-tracking-env/lib/python3.9/site-packages/sklearn/metrics/_regression.py:492: FutureWarning: 'squared' is deprecated in version 1.4 and will be removed in 1.6. To calculate the root mean squared error, use the function'root_mean_squared_error'.\n",
      "  warnings.warn(\n",
      "/home/codespace/anaconda3/envs/experiment-tracking-env/lib/python3.9/site-packages/sklearn/metrics/_regression.py:492: FutureWarning: 'squared' is deprecated in version 1.4 and will be removed in 1.6. To calculate the root mean squared error, use the function'root_mean_squared_error'.\n",
      "  warnings.warn(\n",
      "/home/codespace/anaconda3/envs/experiment-tracking-env/lib/python3.9/site-packages/sklearn/metrics/_regression.py:492: FutureWarning: 'squared' is deprecated in version 1.4 and will be removed in 1.6. To calculate the root mean squared error, use the function'root_mean_squared_error'.\n",
      "  warnings.warn(\n",
      "/home/codespace/anaconda3/envs/experiment-tracking-env/lib/python3.9/site-packages/sklearn/metrics/_regression.py:492: FutureWarning: 'squared' is deprecated in version 1.4 and will be removed in 1.6. To calculate the root mean squared error, use the function'root_mean_squared_error'.\n",
      "  warnings.warn(\n",
      "/home/codespace/anaconda3/envs/experiment-tracking-env/lib/python3.9/site-packages/sklearn/metrics/_regression.py:492: FutureWarning: 'squared' is deprecated in version 1.4 and will be removed in 1.6. To calculate the root mean squared error, use the function'root_mean_squared_error'.\n",
      "  warnings.warn(\n",
      "/home/codespace/anaconda3/envs/experiment-tracking-env/lib/python3.9/site-packages/sklearn/metrics/_regression.py:492: FutureWarning: 'squared' is deprecated in version 1.4 and will be removed in 1.6. To calculate the root mean squared error, use the function'root_mean_squared_error'.\n",
      "  warnings.warn(\n",
      "/home/codespace/anaconda3/envs/experiment-tracking-env/lib/python3.9/site-packages/sklearn/metrics/_regression.py:492: FutureWarning: 'squared' is deprecated in version 1.4 and will be removed in 1.6. To calculate the root mean squared error, use the function'root_mean_squared_error'.\n",
      "  warnings.warn(\n",
      "/home/codespace/anaconda3/envs/experiment-tracking-env/lib/python3.9/site-packages/sklearn/metrics/_regression.py:492: FutureWarning: 'squared' is deprecated in version 1.4 and will be removed in 1.6. To calculate the root mean squared error, use the function'root_mean_squared_error'.\n",
      "  warnings.warn(\n",
      "/home/codespace/anaconda3/envs/experiment-tracking-env/lib/python3.9/site-packages/sklearn/metrics/_regression.py:492: FutureWarning: 'squared' is deprecated in version 1.4 and will be removed in 1.6. To calculate the root mean squared error, use the function'root_mean_squared_error'.\n",
      "  warnings.warn(\n",
      "/home/codespace/anaconda3/envs/experiment-tracking-env/lib/python3.9/site-packages/sklearn/metrics/_regression.py:492: FutureWarning: 'squared' is deprecated in version 1.4 and will be removed in 1.6. To calculate the root mean squared error, use the function'root_mean_squared_error'.\n",
      "  warnings.warn(\n",
      "Successfully registered model 'random_forest_best_model'.\n",
      "2024/05/27 20:07:31 INFO mlflow.store.model_registry.abstract_store: Waiting up to 300 seconds for model version to finish creation. Model name: random_forest_best_model, version 1\n",
      "Created version '1' of model 'random_forest_best_model'.\n",
      "Best model registered successfully with run_id: fcaf25728d114ffea979aa9a8ed47565\n"
     ]
    }
   ],
   "source": [
    "!python register_model.py"
   ]
  },
  {
   "cell_type": "code",
   "execution_count": 24,
   "id": "dc28a843",
   "metadata": {},
   "outputs": [
    {
     "name": "stdout",
     "output_type": "stream",
     "text": [
      "Test RMSE of the best model: 5.567408012462019\n"
     ]
    }
   ],
   "source": [
    "from mlflow.tracking import MlflowClient\n",
    "\n",
    "MODEL_NAME = \"random_forest_best_model\"\n",
    "run_id = \"fcaf25728d114ffea979aa9a8ed47565\"\n",
    "\n",
    "# Initialize the MLflow client\n",
    "client = MlflowClient()\n",
    "\n",
    "\n",
    "# Fetch the logged metrics for the run\n",
    "run = client.get_run(run_id)\n",
    "metrics = run.data.metrics\n",
    "\n",
    "# Print the test RMSE\n",
    "test_rmse = metrics.get(\"test_rmse\")\n",
    "print(f\"Test RMSE of the best model: {test_rmse}\")\n"
   ]
  }
 ],
 "metadata": {
  "kernelspec": {
   "display_name": "Python 3 (ipykernel)",
   "language": "python",
   "name": "python3"
  },
  "language_info": {
   "codemirror_mode": {
    "name": "ipython",
    "version": 3
   },
   "file_extension": ".py",
   "mimetype": "text/x-python",
   "name": "python",
   "nbconvert_exporter": "python",
   "pygments_lexer": "ipython3",
   "version": "3.9.19"
  }
 },
 "nbformat": 4,
 "nbformat_minor": 5
}
